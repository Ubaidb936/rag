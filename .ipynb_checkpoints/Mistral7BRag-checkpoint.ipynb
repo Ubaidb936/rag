{
 "cells": [
  {
   "cell_type": "code",
   "execution_count": 1,
   "id": "43f8dc64-1d57-4041-805a-9166abc2978d",
   "metadata": {},
   "outputs": [],
   "source": [
    "import shutil\n",
    "import requests\n",
    "from urllib.parse import urlparse\n",
    "import sys\n",
    "from tqdm.notebook import tqdm\n",
    "import pandas as pd\n",
    "from typing import Optional, List, Tuple\n",
    "from langchain_core.language_models import BaseChatModel\n",
    "import json\n",
    "import datasets\n",
    "from langchain.text_splitter import RecursiveCharacterTextSplitter\n",
    "from langchain.docstore.document import Document as LangchainDocument\n",
    "from langchain_community.document_loaders import PyPDFLoader\n",
    "from langchain_community.llms import HuggingFaceHub\n",
    "from langchain_community.chat_models import ChatHuggingFace\n",
    "import os\n",
    "import random\n",
    "import time\n",
    "from datasets import Dataset, DatasetDict\n",
    "import gradio as gr\n",
    "import torch\n",
    "from transformers import AutoTokenizer, AutoModelForCausalLM, BitsAndBytesConfig\n",
    "from peft import PeftModel, PeftConfig\n",
    "import config "
   ]
  },
  {
   "cell_type": "code",
   "execution_count": 2,
   "id": "97eebae5-cb1b-43e8-95f1-0e62fe757912",
   "metadata": {},
   "outputs": [],
   "source": [
    "pdfPath = config.pdfPath"
   ]
  },
  {
   "cell_type": "code",
   "execution_count": 9,
   "id": "e24e5f5e-601f-431a-8c18-733601cfc147",
   "metadata": {},
   "outputs": [],
   "source": [
    "if pdfPath is None:\n",
    "    raise ValueError(\"pdfPath is None. Please set the  pdf path in config.py.\")\n"
   ]
  },
  {
   "cell_type": "code",
   "execution_count": 5,
   "id": "281e9a63-82a5-4d15-90d4-05e3dc542005",
   "metadata": {},
   "outputs": [],
   "source": [
    "loader = PyPDFLoader(pdfPath)"
   ]
  },
  {
   "cell_type": "code",
   "execution_count": 6,
   "id": "e6d15dd2-a145-4181-bad7-84c59056eea1",
   "metadata": {},
   "outputs": [],
   "source": [
    "text_splitter = RecursiveCharacterTextSplitter(\n",
    "        chunk_size=2000,  \n",
    "        chunk_overlap=200,\n",
    "        add_start_index=True,\n",
    "        separators=[\"\\n\\n\", \"\\n\", \".\", \" \", \"\"],\n",
    "    )\n",
    "try:\n",
    "    langchain_docs = loader.load_and_split(text_splitter=text_splitter) #loads and slits\n",
    "    #docs = loader.load()\n",
    "    #langchain_docs = text_splitter.split_documents(docs)\n",
    "except Exception as e:\n",
    "    print(\"An error occurred:\", e)"
   ]
  },
  {
   "cell_type": "code",
   "execution_count": 12,
   "id": "c574608c-b45a-42fc-84e2-cdee26eb5b4f",
   "metadata": {},
   "outputs": [],
   "source": [
    "##creating Vector DB\n",
    "\n",
    "from langchain.vectorstores import FAISS\n",
    "from langchain.embeddings import HuggingFaceEmbeddings\n",
    "\n",
    "embeddingModelName = \"BAAI/bge-base-en-v1.5\"\n",
    "\n",
    "embeddingModel = HuggingFaceEmbeddings(model_name=embeddingModelName)\n",
    "\n",
    "db = FAISS.from_documents(langchain_docs, embeddingModel)"
   ]
  },
  {
   "cell_type": "code",
   "execution_count": 8,
   "id": "84d46121-8fee-4164-b3fe-f2f72ca52fc0",
   "metadata": {},
   "outputs": [
    {
     "data": {
      "application/vnd.jupyter.widget-view+json": {
       "model_id": "5f845d1a39e24906b2e9e1f8bd225a29",
       "version_major": 2,
       "version_minor": 0
      },
      "text/plain": [
       "config.json:   0%|          | 0.00/571 [00:00<?, ?B/s]"
      ]
     },
     "metadata": {},
     "output_type": "display_data"
    },
    {
     "data": {
      "application/vnd.jupyter.widget-view+json": {
       "model_id": "6514aab20b06477fbc6e22e5cf786e34",
       "version_major": 2,
       "version_minor": 0
      },
      "text/plain": [
       "model.safetensors.index.json:   0%|          | 0.00/25.1k [00:00<?, ?B/s]"
      ]
     },
     "metadata": {},
     "output_type": "display_data"
    },
    {
     "data": {
      "application/vnd.jupyter.widget-view+json": {
       "model_id": "5c72c5b9743c44aa95138caa991a6f2c",
       "version_major": 2,
       "version_minor": 0
      },
      "text/plain": [
       "Downloading shards:   0%|          | 0/2 [00:00<?, ?it/s]"
      ]
     },
     "metadata": {},
     "output_type": "display_data"
    },
    {
     "data": {
      "application/vnd.jupyter.widget-view+json": {
       "model_id": "fb8945e21d3f46e0a67c897662f89d6f",
       "version_major": 2,
       "version_minor": 0
      },
      "text/plain": [
       "model-00001-of-00002.safetensors:   0%|          | 0.00/9.94G [00:00<?, ?B/s]"
      ]
     },
     "metadata": {},
     "output_type": "display_data"
    },
    {
     "data": {
      "application/vnd.jupyter.widget-view+json": {
       "model_id": "5256b5f8da69491a8b332c2318dd1836",
       "version_major": 2,
       "version_minor": 0
      },
      "text/plain": [
       "model-00002-of-00002.safetensors:   0%|          | 0.00/4.54G [00:00<?, ?B/s]"
      ]
     },
     "metadata": {},
     "output_type": "display_data"
    },
    {
     "data": {
      "application/vnd.jupyter.widget-view+json": {
       "model_id": "05ad8ec36f064b8d82a19a54c3d06040",
       "version_major": 2,
       "version_minor": 0
      },
      "text/plain": [
       "Loading checkpoint shards:   0%|          | 0/2 [00:00<?, ?it/s]"
      ]
     },
     "metadata": {},
     "output_type": "display_data"
    },
    {
     "data": {
      "application/vnd.jupyter.widget-view+json": {
       "model_id": "27bdd264ba574ccfb569029708a662e5",
       "version_major": 2,
       "version_minor": 0
      },
      "text/plain": [
       "generation_config.json:   0%|          | 0.00/116 [00:00<?, ?B/s]"
      ]
     },
     "metadata": {},
     "output_type": "display_data"
    },
    {
     "data": {
      "application/vnd.jupyter.widget-view+json": {
       "model_id": "8278cec17a9a4694bf64cb00fcc3dcc0",
       "version_major": 2,
       "version_minor": 0
      },
      "text/plain": [
       "tokenizer_config.json:   0%|          | 0.00/967 [00:00<?, ?B/s]"
      ]
     },
     "metadata": {},
     "output_type": "display_data"
    },
    {
     "data": {
      "application/vnd.jupyter.widget-view+json": {
       "model_id": "0f523a72eb3e4f86bb3219dc26e770c5",
       "version_major": 2,
       "version_minor": 0
      },
      "text/plain": [
       "tokenizer.model:   0%|          | 0.00/493k [00:00<?, ?B/s]"
      ]
     },
     "metadata": {},
     "output_type": "display_data"
    },
    {
     "data": {
      "application/vnd.jupyter.widget-view+json": {
       "model_id": "e82c00628bac461d8350b7e4246a467a",
       "version_major": 2,
       "version_minor": 0
      },
      "text/plain": [
       "tokenizer.json:   0%|          | 0.00/1.80M [00:00<?, ?B/s]"
      ]
     },
     "metadata": {},
     "output_type": "display_data"
    },
    {
     "data": {
      "application/vnd.jupyter.widget-view+json": {
       "model_id": "4742446ca3a24e3ab728dd8f2554e6cb",
       "version_major": 2,
       "version_minor": 0
      },
      "text/plain": [
       "special_tokens_map.json:   0%|          | 0.00/72.0 [00:00<?, ?B/s]"
      ]
     },
     "metadata": {},
     "output_type": "display_data"
    }
   ],
   "source": [
    "model_id = \"mistralai/Mistral-7B-v0.1\"\n",
    "bnb_config = BitsAndBytesConfig(\n",
    "    load_in_4bit=True,\n",
    "    bnb_4bit_use_double_quant=True,\n",
    "    bnb_4bit_quant_type=\"nf4\",\n",
    "    bnb_4bit_compute_dtype=torch.bfloat16\n",
    ")\n",
    "d_map = {\"\": torch.cuda.current_device()} if torch.cuda.is_available() else None\n",
    "\n",
    "model = AutoModelForCausalLM.from_pretrained(model_id, quantization_config=bnb_config, device_map=d_map)\n",
    "tokenizer = AutoTokenizer.from_pretrained(model_id)\n"
   ]
  },
  {
   "cell_type": "code",
   "execution_count": 27,
   "id": "45a25f68-52ec-4bec-b912-5e4e91a3b663",
   "metadata": {},
   "outputs": [],
   "source": [
    "model.config.pad_token_id = tokenizer.eos_token_id"
   ]
  },
  {
   "cell_type": "code",
   "execution_count": 54,
   "id": "63571368-60f5-41dd-9880-e402348c173c",
   "metadata": {},
   "outputs": [],
   "source": [
    "from langchain.llms import HuggingFacePipeline\n",
    "from langchain.prompts import PromptTemplate\n",
    "from transformers import pipeline\n",
    "from langchain_core.output_parsers import StrOutputParser\n",
    "from langchain.chains import LLMChain\n",
    "text_generation_pipeline = pipeline(\n",
    "    model=model,\n",
    "    tokenizer=tokenizer,\n",
    "    task = \"text-generation\",\n",
    "    temperature=0.2,\n",
    "    do_sample=True,\n",
    "    repetition_penalty=1.1,\n",
    "    return_full_text=True,\n",
    "    max_new_tokens=200,\n",
    ")\n",
    "\n",
    "llm = HuggingFacePipeline(pipeline=text_generation_pipeline)\n",
    "\n",
    "# prompt_template = \"\"\"\n",
    "# <|system|>\n",
    "# Answer the question based on your knowledge. Use the following context to help:\n",
    "\n",
    "# {context}\n",
    "\n",
    "# </s>\n",
    "# <|user|>\n",
    "# {question}\n",
    "# </s>\n",
    "# <|assistant|>\n",
    "\n",
    "#  \"\"\"\n",
    "\n",
    "prompt_template = \"\"\"\n",
    "### [INST] \n",
    "Instruction: Answer the question based on your Knowledge. Here is context to help:\n",
    "\n",
    "{context}\n",
    "\n",
    "### QUESTION:\n",
    "{question} \n",
    "\n",
    "[/INST]\n",
    "### ANSWER:\n",
    " \"\"\"\n",
    "\n",
    "\n",
    "\n",
    "prompt = PromptTemplate(\n",
    "    input_variables=[\"context\", \"question\"],\n",
    "    template=prompt_template,\n",
    ")\n",
    "\n",
    "llm_chain = LLMChain(llm=llm, prompt=prompt)\n"
   ]
  },
  {
   "cell_type": "code",
   "execution_count": 55,
   "id": "1b9c521d-0101-42b5-83d5-f6a02ee3b0ab",
   "metadata": {},
   "outputs": [],
   "source": [
    "##Creating Context Chain\n",
    "from langchain_core.runnables import RunnablePassthrough\n",
    "\n",
    "retriever = db.as_retriever()\n",
    "\n",
    "rag_chain = (\n",
    " {\"context\": retriever, \"question\": RunnablePassthrough()}\n",
    "    | llm_chain\n",
    ")"
   ]
  },
  {
   "cell_type": "code",
   "execution_count": 57,
   "id": "150377fe-6eb7-4ec8-8ba2-ad9d4beac7c9",
   "metadata": {},
   "outputs": [
    {
     "name": "stderr",
     "output_type": "stream",
     "text": [
      "Setting `pad_token_id` to `eos_token_id`:2 for open-end generation.\n"
     ]
    },
    {
     "name": "stdout",
     "output_type": "stream",
     "text": [
      "\n",
      "\n",
      "### EXPLANATION:\n",
      "[/EXPL]\n",
      "\n",
      "### REF:\n",
      "[/REF]\n"
     ]
    }
   ],
   "source": [
    "question= \"What are the two types of keys that can be used to ensure uniqueness and identification of records in a database?\"\n",
    "answer = rag_chain.invoke(question)\n",
    "print(answer[\"text\"])"
   ]
  },
  {
   "cell_type": "code",
   "execution_count": 52,
   "id": "df7d05da-78c2-4527-8610-de5242dff581",
   "metadata": {},
   "outputs": [
    {
     "name": "stderr",
     "output_type": "stream",
     "text": [
      "Setting `pad_token_id` to `eos_token_id`:2 for open-end generation.\n"
     ]
    },
    {
     "name": "stdout",
     "output_type": "stream",
     "text": [
      "\n",
      "### ANSWER:\n",
      "A candidate key is a unique identifier for a table in a relational database. It is used to ensure that each row in the table can be uniquely identified and referenced. A candidate key must satisfy the following conditions:\n",
      "\n",
      "- Uniqueness: Each value in the candidate key must be unique within the table.\n",
      "- Minimality: The candidate key should contain the minimum number of attributes necessary to ensure uniqueness.\n",
      "\n",
      "In other words, a candidate key is a set of attributes that can be used to identify a single record in a table. It is important to note that a table may have multiple candidate keys, but only one of them can be chosen as the primary key.\n",
      "\n",
      "### EXPLANATION:\n",
      "In a relational database, a candidate key is a set of attributes that can be used to uniquely identify a record in a table. In other words, it is a set of attributes that satisfies the following two\n"
     ]
    }
   ],
   "source": [
    "question= \"What is the definition of a candidate key in a database?\"\n",
    "answer = llm_chain.invoke({\"context\":\"\", \"question\": question})\n",
    "print(answer[\"text\"])"
   ]
  },
  {
   "cell_type": "code",
   "execution_count": 11,
   "id": "ee2de1ec-e447-40fd-8777-31ba7e7c8c76",
   "metadata": {},
   "outputs": [],
   "source": [
    "# import re\n",
    "# prompt_template = \"\"\"\n",
    "#   Below is an instruction that describes a task. Write a response that appropriately completes the request.\n",
    "#   ### Instruction:\n",
    "#   {query}\n",
    "  \n",
    "#   ### Answer:\n",
    "#   \"\"\"\n",
    "\n",
    "# prompt_template_with_context = \"\"\"\n",
    "#   Below is an instruction that describes a task, paired with an input that provides further context. Write a response that \n",
    "#   appropriately completes the request.\n",
    "#   Each response should at least 30 words. please end the answer with fullstop(.)\n",
    "#   ### Instruction:\n",
    "#   {query}\n",
    "#   ### Input:\n",
    "#   {input}\n",
    "  \n",
    "#   ### Answer:\n",
    "#   \"\"\"\n",
    "\n",
    "\n",
    "\n",
    "# def parse_answer_from_prompt(prompt_template_with_context):\n",
    "#     answer_start = prompt_template_with_context.find(\"### Answer:\")\n",
    "#     if answer_start == -1:\n",
    "#         return \"Answer not found.\"\n",
    "#     return prompt_template_with_context[answer_start + len(\"### Answer:\"):].strip()\n",
    "\n",
    "\n",
    "\n",
    "# def remove_special_characters_and_after(input_string):\n",
    "#     # Define a regular expression pattern to match special characters excluding . , and -\n",
    "#     pattern = r'[^a-zA-Z0-9\\s\\t.,-]'\n",
    "    \n",
    "#     # Use re.split() to split the string based on the pattern\n",
    "#     parts = re.split(pattern, input_string)\n",
    "    \n",
    "#     # The first part will contain the portion of the string without special characters\n",
    "#     cleaned_string = parts[0]\n",
    "    \n",
    "#     return cleaned_string\n",
    "\n",
    "# #Inference Function............\n",
    "# def inferance(prompt: str, model, tokenizer, temp = 1.0, limit = 400, input = False) -> str:\n",
    "#   device = \"cuda:0\"\n",
    "#   encodeds = tokenizer(prompt, return_tensors=\"pt\", add_special_tokens=True)\n",
    "#   model_inputs = encodeds.to(device)\n",
    "#   generated_ids = model.generate(**model_inputs, max_new_tokens=limit, do_sample=True, pad_token_id=tokenizer.eos_token_id)\n",
    "#   decoded = tokenizer.batch_decode(generated_ids)\n",
    "\n",
    "#   answer = decoded[0].split(\"### Answer:\")[1]\n",
    "#   pattern = r\"[^\\w\\s,.'\\)\\\"]\" \n",
    "#   split_string = re.split(pattern, answer)  \n",
    "#   # answer  = parse_answer_from_prompt(decoded[0])\n",
    "#   # answer  = remove_special_characters(answer) \n",
    "#   # print(decoded[0])  \n",
    "#   return split_string[0]"
   ]
  },
  {
   "cell_type": "code",
   "execution_count": 12,
   "id": "d10c273b-f362-49a6-b88a-96fd9d18c74e",
   "metadata": {},
   "outputs": [],
   "source": [
    "generated_questions = pd.read_csv(\"datasets/db2_dataset.csv\")\n",
    "datapoints = Dataset.from_pandas(generated_questions)"
   ]
  },
  {
   "cell_type": "code",
   "execution_count": null,
   "id": "8ce6a81e-295f-4936-b7e4-c783bcdc46a0",
   "metadata": {},
   "outputs": [
    {
     "name": "stdout",
     "output_type": "stream",
     "text": [
      "Inference number 1/263 in progress.....\n",
      "Inference number 2/263 in progress.....\n",
      "Inference number 3/263 in progress.....\n",
      "Inference number 4/263 in progress.....\n",
      "Inference number 5/263 in progress.....\n",
      "Inference number 6/263 in progress.....\n",
      "Inference number 7/263 in progress.....\n",
      "Inference number 8/263 in progress.....\n",
      "Inference number 9/263 in progress.....\n",
      "Inference number 10/263 in progress.....\n",
      "Inference number 11/263 in progress.....\n",
      "Inference number 12/263 in progress.....\n",
      "Inference number 13/263 in progress.....\n",
      "Inference number 14/263 in progress.....\n",
      "Inference number 15/263 in progress.....\n",
      "Inference number 16/263 in progress.....\n",
      "Inference number 17/263 in progress.....\n",
      "Inference number 18/263 in progress.....\n",
      "Inference number 19/263 in progress.....\n",
      "Inference number 20/263 in progress.....\n",
      "Inference number 21/263 in progress.....\n",
      "Inference number 22/263 in progress.....\n",
      "Inference number 23/263 in progress.....\n",
      "Inference number 24/263 in progress.....\n",
      "Inference number 25/263 in progress.....\n",
      "Inference number 26/263 in progress.....\n",
      "Inference number 27/263 in progress.....\n",
      "Inference number 28/263 in progress.....\n",
      "Inference number 29/263 in progress.....\n",
      "Inference number 30/263 in progress.....\n",
      "Inference number 31/263 in progress.....\n",
      "Inference number 32/263 in progress.....\n",
      "Inference number 33/263 in progress.....\n",
      "Inference number 34/263 in progress.....\n",
      "Inference number 35/263 in progress.....\n",
      "Inference number 36/263 in progress.....\n",
      "Inference number 37/263 in progress.....\n",
      "Inference number 38/263 in progress.....\n",
      "Inference number 39/263 in progress.....\n",
      "Inference number 40/263 in progress.....\n",
      "Inference number 41/263 in progress.....\n",
      "Inference number 42/263 in progress.....\n",
      "Inference number 43/263 in progress.....\n",
      "Inference number 44/263 in progress.....\n",
      "Inference number 45/263 in progress.....\n",
      "Inference number 46/263 in progress.....\n",
      "Inference number 47/263 in progress.....\n",
      "Inference number 48/263 in progress.....\n",
      "Inference number 49/263 in progress.....\n",
      "Inference number 50/263 in progress.....\n",
      "Inference number 51/263 in progress.....\n",
      "Inference number 52/263 in progress.....\n",
      "Inference number 53/263 in progress.....\n",
      "Inference number 54/263 in progress.....\n",
      "Inference number 55/263 in progress.....\n",
      "Inference number 56/263 in progress.....\n",
      "Inference number 57/263 in progress.....\n",
      "Inference number 58/263 in progress.....\n",
      "Inference number 59/263 in progress.....\n",
      "Inference number 60/263 in progress.....\n",
      "Inference number 61/263 in progress.....\n",
      "Inference number 62/263 in progress.....\n",
      "Inference number 63/263 in progress.....\n",
      "Inference number 64/263 in progress.....\n",
      "Inference number 65/263 in progress.....\n",
      "Inference number 66/263 in progress.....\n",
      "Inference number 67/263 in progress.....\n",
      "Inference number 68/263 in progress.....\n",
      "Inference number 69/263 in progress.....\n",
      "Inference number 70/263 in progress.....\n",
      "Inference number 71/263 in progress.....\n",
      "Inference number 72/263 in progress.....\n",
      "Inference number 73/263 in progress.....\n",
      "Inference number 74/263 in progress.....\n",
      "Inference number 75/263 in progress.....\n",
      "Inference number 76/263 in progress.....\n",
      "Inference number 77/263 in progress.....\n",
      "Inference number 78/263 in progress.....\n",
      "Inference number 79/263 in progress.....\n",
      "Inference number 80/263 in progress.....\n",
      "Inference number 81/263 in progress.....\n",
      "Inference number 82/263 in progress.....\n",
      "Inference number 83/263 in progress.....\n",
      "Inference number 84/263 in progress.....\n",
      "Inference number 85/263 in progress.....\n",
      "Inference number 86/263 in progress.....\n",
      "Inference number 87/263 in progress.....\n",
      "Inference number 88/263 in progress.....\n",
      "Inference number 89/263 in progress.....\n",
      "Inference number 90/263 in progress.....\n",
      "Inference number 91/263 in progress.....\n",
      "Inference number 92/263 in progress.....\n",
      "Inference number 93/263 in progress.....\n",
      "Inference number 94/263 in progress.....\n",
      "Inference number 95/263 in progress.....\n",
      "Inference number 96/263 in progress.....\n",
      "Inference number 97/263 in progress.....\n",
      "Inference number 98/263 in progress.....\n",
      "Inference number 99/263 in progress.....\n",
      "Inference number 100/263 in progress.....\n",
      "Inference number 101/263 in progress.....\n",
      "Inference number 102/263 in progress.....\n",
      "Inference number 103/263 in progress.....\n",
      "Inference number 104/263 in progress.....\n",
      "Inference number 105/263 in progress.....\n",
      "Inference number 106/263 in progress.....\n",
      "Inference number 107/263 in progress.....\n",
      "Inference number 108/263 in progress.....\n",
      "Inference number 109/263 in progress.....\n",
      "Inference number 110/263 in progress.....\n",
      "Inference number 111/263 in progress.....\n",
      "Inference number 112/263 in progress.....\n",
      "Inference number 113/263 in progress.....\n",
      "Inference number 114/263 in progress.....\n",
      "Inference number 115/263 in progress.....\n",
      "Inference number 116/263 in progress.....\n",
      "Inference number 117/263 in progress.....\n",
      "Inference number 118/263 in progress.....\n",
      "Inference number 119/263 in progress.....\n",
      "Inference number 120/263 in progress.....\n",
      "Inference number 121/263 in progress.....\n",
      "Inference number 122/263 in progress.....\n",
      "Inference number 123/263 in progress.....\n",
      "Inference number 124/263 in progress.....\n",
      "Inference number 125/263 in progress.....\n",
      "Inference number 126/263 in progress.....\n",
      "Inference number 127/263 in progress.....\n",
      "Inference number 128/263 in progress.....\n",
      "Inference number 129/263 in progress.....\n",
      "Inference number 130/263 in progress.....\n",
      "Inference number 131/263 in progress.....\n",
      "Inference number 132/263 in progress.....\n",
      "Inference number 133/263 in progress.....\n",
      "Inference number 134/263 in progress.....\n",
      "Inference number 135/263 in progress.....\n",
      "Inference number 136/263 in progress.....\n",
      "Inference number 137/263 in progress.....\n",
      "Inference number 138/263 in progress.....\n",
      "Inference number 139/263 in progress.....\n",
      "Inference number 140/263 in progress.....\n",
      "Inference number 141/263 in progress.....\n",
      "Inference number 142/263 in progress.....\n",
      "Inference number 143/263 in progress.....\n",
      "Inference number 144/263 in progress.....\n",
      "Inference number 145/263 in progress.....\n",
      "Inference number 146/263 in progress.....\n",
      "Inference number 147/263 in progress.....\n",
      "Inference number 148/263 in progress.....\n",
      "Inference number 149/263 in progress.....\n",
      "Inference number 150/263 in progress.....\n"
     ]
    }
   ],
   "source": [
    "outputs = []\n",
    "i = 1\n",
    "n = len(datapoints)\n",
    "for datapoint in datapoints:\n",
    "    print(\"Inference number {}/{} in progress.....\".format(i, n))\n",
    "    if i >= 15 and i <= 250:\n",
    "        question = datapoint[\"question\"]\n",
    "        correctAnswer = datapoint[\"answer\"]\n",
    "        relevantText = db.as_retriever(search_type=\"mmr\").get_relevant_documents(question)\n",
    "        context = relevantText[0].page_content\n",
    "        prompt = prompt_template_with_context.format(query=question, input =context)\n",
    "        answer = inferance(prompt, model, tokenizer, temp = 0.1, limit = 400, input = False)\n",
    "        outputs.append(\n",
    "                {   \n",
    "                    \"question\": question,\n",
    "                    \"correctAnswer\": correctAnswer,\n",
    "                    \"ragAnswer\": answer,\n",
    "                \n",
    "                }\n",
    "            )\n",
    "        generated_questions = pd.DataFrame.from_dict(outputs)\n",
    "        generated_questions.to_csv(\"eval.csv\", index=False)\n",
    "    i += 1\n",
    "    "
   ]
  },
  {
   "cell_type": "code",
   "execution_count": null,
   "id": "a1e25ad0-283d-4e71-8c2b-c9d912be38a7",
   "metadata": {},
   "outputs": [],
   "source": []
  }
 ],
 "metadata": {
  "kernelspec": {
   "display_name": "Python 3 (ipykernel)",
   "language": "python",
   "name": "python3"
  },
  "language_info": {
   "codemirror_mode": {
    "name": "ipython",
    "version": 3
   },
   "file_extension": ".py",
   "mimetype": "text/x-python",
   "name": "python",
   "nbconvert_exporter": "python",
   "pygments_lexer": "ipython3",
   "version": "3.10.12"
  }
 },
 "nbformat": 4,
 "nbformat_minor": 5
}
