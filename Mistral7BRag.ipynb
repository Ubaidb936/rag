{
 "cells": [
  {
   "cell_type": "code",
   "execution_count": null,
   "id": "43f8dc64-1d57-4041-805a-9166abc2978d",
   "metadata": {},
   "outputs": [],
   "source": [
    "import shutil\n",
    "import requests\n",
    "from urllib.parse import urlparse\n",
    "import sys\n",
    "from tqdm.notebook import tqdm\n",
    "import pandas as pd\n",
    "from typing import Optional, List, Tuple\n",
    "from langchain_core.language_models import BaseChatModel\n",
    "import json\n",
    "import datasets\n",
    "from langchain.text_splitter import RecursiveCharacterTextSplitter\n",
    "from langchain.docstore.document import Document as LangchainDocument\n",
    "from langchain_community.document_loaders import PyPDFLoader\n",
    "from langchain_community.llms import HuggingFaceHub\n",
    "from langchain_community.chat_models import ChatHuggingFace\n",
    "import os\n",
    "import random\n",
    "import time\n",
    "from datasets import Dataset, DatasetDict\n",
    "import gradio as gr\n",
    "import torch\n",
    "from transformers import AutoTokenizer, AutoModelForCausalLM, BitsAndBytesConfig\n",
    "from peft import PeftModel, PeftConfig\n",
    "import config "
   ]
  },
  {
   "cell_type": "code",
   "execution_count": 4,
   "id": "97eebae5-cb1b-43e8-95f1-0e62fe757912",
   "metadata": {},
   "outputs": [],
   "source": [
    "pdfPath = config.pdfPath\n",
    "model_id = config.model_id"
   ]
  },
  {
   "cell_type": "code",
   "execution_count": 5,
   "id": "e24e5f5e-601f-431a-8c18-733601cfc147",
   "metadata": {},
   "outputs": [],
   "source": [
    "if pdfPath is None:\n",
    "    raise ValueError(\"pdfPath is None. Please set the  pdf path in config.py.\")\n",
    "\n",
    "if model_id is None:\n",
    "    raise ValueError(\"model_id is None. Please set the model_id in config.py.\")"
   ]
  },
  {
   "cell_type": "code",
   "execution_count": 6,
   "id": "281e9a63-82a5-4d15-90d4-05e3dc542005",
   "metadata": {},
   "outputs": [],
   "source": [
    "loader = PyPDFLoader(pdfPath)"
   ]
  },
  {
   "cell_type": "code",
   "execution_count": 7,
   "id": "e6d15dd2-a145-4181-bad7-84c59056eea1",
   "metadata": {},
   "outputs": [],
   "source": [
    "text_splitter = RecursiveCharacterTextSplitter(\n",
    "        chunk_size=2000,  \n",
    "        chunk_overlap=200,\n",
    "        add_start_index=True,\n",
    "        separators=[\"\\n\\n\", \"\\n\", \".\", \" \", \"\"],\n",
    "    )\n",
    "try:\n",
    "    langchain_docs = loader.load_and_split(text_splitter=text_splitter) #loads and slits\n",
    "    #docs = loader.load()\n",
    "    #langchain_docs = text_splitter.split_documents(docs)\n",
    "except Exception as e:\n",
    "    print(\"An error occurred:\", e)"
   ]
  },
  {
   "cell_type": "code",
   "execution_count": 8,
   "id": "c574608c-b45a-42fc-84e2-cdee26eb5b4f",
   "metadata": {},
   "outputs": [
    {
     "data": {
      "application/vnd.jupyter.widget-view+json": {
       "model_id": "64bcbe857cca48e7b3156226d6b1bce1",
       "version_major": 2,
       "version_minor": 0
      },
      "text/plain": [
       "modules.json:   0%|          | 0.00/349 [00:00<?, ?B/s]"
      ]
     },
     "metadata": {},
     "output_type": "display_data"
    },
    {
     "data": {
      "application/vnd.jupyter.widget-view+json": {
       "model_id": "c2f9deb267fe4daa9a28f251a5ee8357",
       "version_major": 2,
       "version_minor": 0
      },
      "text/plain": [
       "config_sentence_transformers.json:   0%|          | 0.00/124 [00:00<?, ?B/s]"
      ]
     },
     "metadata": {},
     "output_type": "display_data"
    },
    {
     "data": {
      "application/vnd.jupyter.widget-view+json": {
       "model_id": "48df68cd30aa41a9a69b2f30124f4ef7",
       "version_major": 2,
       "version_minor": 0
      },
      "text/plain": [
       "README.md:   0%|          | 0.00/94.6k [00:00<?, ?B/s]"
      ]
     },
     "metadata": {},
     "output_type": "display_data"
    },
    {
     "data": {
      "application/vnd.jupyter.widget-view+json": {
       "model_id": "cc4b7c6be946453caee364d7c9adc886",
       "version_major": 2,
       "version_minor": 0
      },
      "text/plain": [
       "sentence_bert_config.json:   0%|          | 0.00/52.0 [00:00<?, ?B/s]"
      ]
     },
     "metadata": {},
     "output_type": "display_data"
    },
    {
     "data": {
      "application/vnd.jupyter.widget-view+json": {
       "model_id": "9874069393c54b408e37b81cc8d42f55",
       "version_major": 2,
       "version_minor": 0
      },
      "text/plain": [
       "config.json:   0%|          | 0.00/777 [00:00<?, ?B/s]"
      ]
     },
     "metadata": {},
     "output_type": "display_data"
    },
    {
     "data": {
      "application/vnd.jupyter.widget-view+json": {
       "model_id": "a85fc53f29294a9c9fb6d5074a63d7aa",
       "version_major": 2,
       "version_minor": 0
      },
      "text/plain": [
       "model.safetensors:   0%|          | 0.00/438M [00:00<?, ?B/s]"
      ]
     },
     "metadata": {},
     "output_type": "display_data"
    },
    {
     "data": {
      "application/vnd.jupyter.widget-view+json": {
       "model_id": "7c00f41cc73f43b8ad8ad9eb1d7ca7eb",
       "version_major": 2,
       "version_minor": 0
      },
      "text/plain": [
       "tokenizer_config.json:   0%|          | 0.00/366 [00:00<?, ?B/s]"
      ]
     },
     "metadata": {},
     "output_type": "display_data"
    },
    {
     "data": {
      "application/vnd.jupyter.widget-view+json": {
       "model_id": "162f0ce45a974b43b04db4819428a7f1",
       "version_major": 2,
       "version_minor": 0
      },
      "text/plain": [
       "vocab.txt:   0%|          | 0.00/232k [00:00<?, ?B/s]"
      ]
     },
     "metadata": {},
     "output_type": "display_data"
    },
    {
     "data": {
      "application/vnd.jupyter.widget-view+json": {
       "model_id": "a7d17b18c5204260be49209a3ab921ab",
       "version_major": 2,
       "version_minor": 0
      },
      "text/plain": [
       "tokenizer.json:   0%|          | 0.00/711k [00:00<?, ?B/s]"
      ]
     },
     "metadata": {},
     "output_type": "display_data"
    },
    {
     "data": {
      "application/vnd.jupyter.widget-view+json": {
       "model_id": "8caf7bb479e0490eb17b9978044acabd",
       "version_major": 2,
       "version_minor": 0
      },
      "text/plain": [
       "special_tokens_map.json:   0%|          | 0.00/125 [00:00<?, ?B/s]"
      ]
     },
     "metadata": {},
     "output_type": "display_data"
    },
    {
     "data": {
      "application/vnd.jupyter.widget-view+json": {
       "model_id": "3f00e61d5c32466689a25e718184fdf3",
       "version_major": 2,
       "version_minor": 0
      },
      "text/plain": [
       "1_Pooling/config.json:   0%|          | 0.00/190 [00:00<?, ?B/s]"
      ]
     },
     "metadata": {},
     "output_type": "display_data"
    }
   ],
   "source": [
    "from langchain.vectorstores import FAISS\n",
    "from langchain.embeddings import HuggingFaceEmbeddings\n",
    "\n",
    "db = FAISS.from_documents(langchain_docs,\n",
    "                          HuggingFaceEmbeddings(model_name='BAAI/bge-base-en-v1.5'))"
   ]
  },
  {
   "cell_type": "code",
   "execution_count": 10,
   "id": "84d46121-8fee-4164-b3fe-f2f72ca52fc0",
   "metadata": {},
   "outputs": [
    {
     "data": {
      "application/vnd.jupyter.widget-view+json": {
       "model_id": "863d3e6fbdc546ffb84343e688bb22d8",
       "version_major": 2,
       "version_minor": 0
      },
      "text/plain": [
       "Loading checkpoint shards:   0%|          | 0/2 [00:00<?, ?it/s]"
      ]
     },
     "metadata": {},
     "output_type": "display_data"
    }
   ],
   "source": [
    "bnb_config = BitsAndBytesConfig(\n",
    "    load_in_4bit=True,\n",
    "    bnb_4bit_use_double_quant=True,\n",
    "    bnb_4bit_quant_type=\"nf4\",\n",
    "    bnb_4bit_compute_dtype=torch.bfloat16\n",
    ")\n",
    "d_map = {\"\": torch.cuda.current_device()} if torch.cuda.is_available() else None\n",
    "\n",
    "model = AutoModelForCausalLM.from_pretrained(model_id, quantization_config=bnb_config, device_map=d_map)\n",
    "tokenizer = AutoTokenizer.from_pretrained(model_id)"
   ]
  },
  {
   "cell_type": "code",
   "execution_count": 11,
   "id": "ee2de1ec-e447-40fd-8777-31ba7e7c8c76",
   "metadata": {},
   "outputs": [],
   "source": [
    "import re\n",
    "prompt_template = \"\"\"\n",
    "  Below is an instruction that describes a task. Write a response that appropriately completes the request.\n",
    "  ### Instruction:\n",
    "  {query}\n",
    "  \n",
    "  ### Answer:\n",
    "  \"\"\"\n",
    "\n",
    "prompt_template_with_context = \"\"\"\n",
    "  Below is an instruction that describes a task, paired with an input that provides further context. Write a response that \n",
    "  appropriately completes the request.\n",
    "  Each response should at least 30 words. please end the answer with fullstop(.)\n",
    "  ### Instruction:\n",
    "  {query}\n",
    "  ### Input:\n",
    "  {input}\n",
    "  \n",
    "  ### Answer:\n",
    "  \"\"\"\n",
    "\n",
    "\n",
    "\n",
    "def parse_answer_from_prompt(prompt_template_with_context):\n",
    "    answer_start = prompt_template_with_context.find(\"### Answer:\")\n",
    "    if answer_start == -1:\n",
    "        return \"Answer not found.\"\n",
    "    return prompt_template_with_context[answer_start + len(\"### Answer:\"):].strip()\n",
    "\n",
    "\n",
    "\n",
    "def remove_special_characters_and_after(input_string):\n",
    "    # Define a regular expression pattern to match special characters excluding . , and -\n",
    "    pattern = r'[^a-zA-Z0-9\\s\\t.,-]'\n",
    "    \n",
    "    # Use re.split() to split the string based on the pattern\n",
    "    parts = re.split(pattern, input_string)\n",
    "    \n",
    "    # The first part will contain the portion of the string without special characters\n",
    "    cleaned_string = parts[0]\n",
    "    \n",
    "    return cleaned_string\n",
    "\n",
    "#Inference Function............\n",
    "def inferance(prompt: str, model, tokenizer, temp = 1.0, limit = 400, input = False) -> str:\n",
    "  device = \"cuda:0\"\n",
    "  encodeds = tokenizer(prompt, return_tensors=\"pt\", add_special_tokens=True)\n",
    "  model_inputs = encodeds.to(device)\n",
    "  generated_ids = model.generate(**model_inputs, max_new_tokens=limit, do_sample=True, pad_token_id=tokenizer.eos_token_id)\n",
    "  decoded = tokenizer.batch_decode(generated_ids)\n",
    "\n",
    "  answer = decoded[0].split(\"### Answer:\")[1]\n",
    "  pattern = r\"[^\\w\\s,.'\\)\\\"]\" \n",
    "  split_string = re.split(pattern, answer)  \n",
    "  # answer  = parse_answer_from_prompt(decoded[0])\n",
    "  # answer  = remove_special_characters(answer) \n",
    "  # print(decoded[0])  \n",
    "  return split_string[0]"
   ]
  },
  {
   "cell_type": "code",
   "execution_count": 12,
   "id": "d10c273b-f362-49a6-b88a-96fd9d18c74e",
   "metadata": {},
   "outputs": [],
   "source": [
    "generated_questions = pd.read_csv(\"datasets/db2_dataset.csv\")\n",
    "datapoints = Dataset.from_pandas(generated_questions)"
   ]
  },
  {
   "cell_type": "code",
   "execution_count": null,
   "id": "8ce6a81e-295f-4936-b7e4-c783bcdc46a0",
   "metadata": {},
   "outputs": [
    {
     "name": "stdout",
     "output_type": "stream",
     "text": [
      "Inference number 1/263 in progress.....\n",
      "Inference number 2/263 in progress.....\n",
      "Inference number 3/263 in progress.....\n",
      "Inference number 4/263 in progress.....\n",
      "Inference number 5/263 in progress.....\n",
      "Inference number 6/263 in progress.....\n",
      "Inference number 7/263 in progress.....\n",
      "Inference number 8/263 in progress.....\n",
      "Inference number 9/263 in progress.....\n",
      "Inference number 10/263 in progress.....\n",
      "Inference number 11/263 in progress.....\n",
      "Inference number 12/263 in progress.....\n",
      "Inference number 13/263 in progress.....\n",
      "Inference number 14/263 in progress.....\n",
      "Inference number 15/263 in progress.....\n",
      "Inference number 16/263 in progress.....\n",
      "Inference number 17/263 in progress.....\n",
      "Inference number 18/263 in progress.....\n",
      "Inference number 19/263 in progress.....\n",
      "Inference number 20/263 in progress.....\n",
      "Inference number 21/263 in progress.....\n",
      "Inference number 22/263 in progress.....\n",
      "Inference number 23/263 in progress.....\n",
      "Inference number 24/263 in progress.....\n",
      "Inference number 25/263 in progress.....\n",
      "Inference number 26/263 in progress.....\n",
      "Inference number 27/263 in progress.....\n",
      "Inference number 28/263 in progress.....\n",
      "Inference number 29/263 in progress.....\n",
      "Inference number 30/263 in progress.....\n",
      "Inference number 31/263 in progress.....\n",
      "Inference number 32/263 in progress.....\n",
      "Inference number 33/263 in progress.....\n",
      "Inference number 34/263 in progress.....\n",
      "Inference number 35/263 in progress.....\n",
      "Inference number 36/263 in progress.....\n",
      "Inference number 37/263 in progress.....\n",
      "Inference number 38/263 in progress.....\n",
      "Inference number 39/263 in progress.....\n",
      "Inference number 40/263 in progress.....\n",
      "Inference number 41/263 in progress.....\n",
      "Inference number 42/263 in progress.....\n",
      "Inference number 43/263 in progress.....\n",
      "Inference number 44/263 in progress.....\n",
      "Inference number 45/263 in progress.....\n",
      "Inference number 46/263 in progress.....\n",
      "Inference number 47/263 in progress.....\n",
      "Inference number 48/263 in progress.....\n",
      "Inference number 49/263 in progress.....\n",
      "Inference number 50/263 in progress.....\n",
      "Inference number 51/263 in progress.....\n",
      "Inference number 52/263 in progress.....\n",
      "Inference number 53/263 in progress.....\n",
      "Inference number 54/263 in progress.....\n",
      "Inference number 55/263 in progress.....\n",
      "Inference number 56/263 in progress.....\n",
      "Inference number 57/263 in progress.....\n",
      "Inference number 58/263 in progress.....\n",
      "Inference number 59/263 in progress.....\n",
      "Inference number 60/263 in progress.....\n",
      "Inference number 61/263 in progress.....\n",
      "Inference number 62/263 in progress.....\n",
      "Inference number 63/263 in progress.....\n",
      "Inference number 64/263 in progress.....\n",
      "Inference number 65/263 in progress.....\n",
      "Inference number 66/263 in progress.....\n",
      "Inference number 67/263 in progress.....\n",
      "Inference number 68/263 in progress.....\n",
      "Inference number 69/263 in progress.....\n",
      "Inference number 70/263 in progress.....\n",
      "Inference number 71/263 in progress.....\n",
      "Inference number 72/263 in progress.....\n",
      "Inference number 73/263 in progress.....\n",
      "Inference number 74/263 in progress.....\n",
      "Inference number 75/263 in progress.....\n",
      "Inference number 76/263 in progress.....\n",
      "Inference number 77/263 in progress.....\n",
      "Inference number 78/263 in progress.....\n",
      "Inference number 79/263 in progress.....\n",
      "Inference number 80/263 in progress.....\n",
      "Inference number 81/263 in progress.....\n",
      "Inference number 82/263 in progress.....\n",
      "Inference number 83/263 in progress.....\n",
      "Inference number 84/263 in progress.....\n",
      "Inference number 85/263 in progress.....\n",
      "Inference number 86/263 in progress.....\n",
      "Inference number 87/263 in progress.....\n",
      "Inference number 88/263 in progress.....\n",
      "Inference number 89/263 in progress.....\n",
      "Inference number 90/263 in progress.....\n",
      "Inference number 91/263 in progress.....\n",
      "Inference number 92/263 in progress.....\n",
      "Inference number 93/263 in progress.....\n",
      "Inference number 94/263 in progress.....\n",
      "Inference number 95/263 in progress.....\n",
      "Inference number 96/263 in progress.....\n",
      "Inference number 97/263 in progress.....\n",
      "Inference number 98/263 in progress.....\n",
      "Inference number 99/263 in progress.....\n",
      "Inference number 100/263 in progress.....\n",
      "Inference number 101/263 in progress.....\n",
      "Inference number 102/263 in progress.....\n",
      "Inference number 103/263 in progress.....\n",
      "Inference number 104/263 in progress.....\n",
      "Inference number 105/263 in progress.....\n",
      "Inference number 106/263 in progress.....\n",
      "Inference number 107/263 in progress.....\n",
      "Inference number 108/263 in progress.....\n",
      "Inference number 109/263 in progress.....\n",
      "Inference number 110/263 in progress.....\n",
      "Inference number 111/263 in progress.....\n",
      "Inference number 112/263 in progress.....\n",
      "Inference number 113/263 in progress.....\n",
      "Inference number 114/263 in progress.....\n",
      "Inference number 115/263 in progress.....\n",
      "Inference number 116/263 in progress.....\n",
      "Inference number 117/263 in progress.....\n",
      "Inference number 118/263 in progress.....\n",
      "Inference number 119/263 in progress.....\n",
      "Inference number 120/263 in progress.....\n",
      "Inference number 121/263 in progress.....\n",
      "Inference number 122/263 in progress.....\n",
      "Inference number 123/263 in progress.....\n",
      "Inference number 124/263 in progress.....\n",
      "Inference number 125/263 in progress.....\n",
      "Inference number 126/263 in progress.....\n",
      "Inference number 127/263 in progress.....\n",
      "Inference number 128/263 in progress.....\n",
      "Inference number 129/263 in progress.....\n",
      "Inference number 130/263 in progress.....\n",
      "Inference number 131/263 in progress.....\n",
      "Inference number 132/263 in progress.....\n",
      "Inference number 133/263 in progress.....\n",
      "Inference number 134/263 in progress.....\n",
      "Inference number 135/263 in progress.....\n",
      "Inference number 136/263 in progress.....\n",
      "Inference number 137/263 in progress.....\n",
      "Inference number 138/263 in progress.....\n",
      "Inference number 139/263 in progress.....\n",
      "Inference number 140/263 in progress.....\n",
      "Inference number 141/263 in progress.....\n",
      "Inference number 142/263 in progress.....\n",
      "Inference number 143/263 in progress.....\n",
      "Inference number 144/263 in progress.....\n",
      "Inference number 145/263 in progress.....\n",
      "Inference number 146/263 in progress.....\n",
      "Inference number 147/263 in progress.....\n",
      "Inference number 148/263 in progress.....\n",
      "Inference number 149/263 in progress.....\n",
      "Inference number 150/263 in progress.....\n"
     ]
    }
   ],
   "source": [
    "outputs = []\n",
    "i = 1\n",
    "n = len(datapoints)\n",
    "for datapoint in datapoints:\n",
    "    print(\"Inference number {}/{} in progress.....\".format(i, n))\n",
    "    if i >= 15 and i <= 250:\n",
    "        question = datapoint[\"question\"]\n",
    "        correctAnswer = datapoint[\"answer\"]\n",
    "        relevantText = db.as_retriever(search_type=\"mmr\").get_relevant_documents(question)\n",
    "        context = relevantText[0].page_content\n",
    "        prompt = prompt_template_with_context.format(query=question, input =context)\n",
    "        answer = inferance(prompt, model, tokenizer, temp = 0.1, limit = 400, input = False)\n",
    "        outputs.append(\n",
    "                {   \n",
    "                    \"question\": question,\n",
    "                    \"correctAnswer\": correctAnswer,\n",
    "                    \"ragAnswer\": answer,\n",
    "                \n",
    "                }\n",
    "            )\n",
    "        generated_questions = pd.DataFrame.from_dict(outputs)\n",
    "        generated_questions.to_csv(\"eval.csv\", index=False)\n",
    "    i += 1\n",
    "    "
   ]
  },
  {
   "cell_type": "code",
   "execution_count": null,
   "id": "a1e25ad0-283d-4e71-8c2b-c9d912be38a7",
   "metadata": {},
   "outputs": [],
   "source": []
  }
 ],
 "metadata": {
  "kernelspec": {
   "display_name": "Python 3 (ipykernel)",
   "language": "python",
   "name": "python3"
  },
  "language_info": {
   "codemirror_mode": {
    "name": "ipython",
    "version": 3
   },
   "file_extension": ".py",
   "mimetype": "text/x-python",
   "name": "python",
   "nbconvert_exporter": "python",
   "pygments_lexer": "ipython3",
   "version": "3.10.12"
  }
 },
 "nbformat": 4,
 "nbformat_minor": 5
}
